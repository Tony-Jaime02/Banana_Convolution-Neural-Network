{
  "nbformat": 4,
  "nbformat_minor": 0,
  "metadata": {
    "colab": {
      "provenance": [],
      "authorship_tag": "ABX9TyNgZLiOw7u/CizlWGnEFzrv",
      "include_colab_link": true
    },
    "kernelspec": {
      "name": "python3",
      "display_name": "Python 3"
    },
    "language_info": {
      "name": "python"
    }
  },
  "cells": [
    {
      "cell_type": "markdown",
      "metadata": {
        "id": "view-in-github",
        "colab_type": "text"
      },
      "source": [
        "<a href=\"https://colab.research.google.com/github/Tony-Jaime02/Banana_Convolution-Neural-Network/blob/main/CNN.ipynb\" target=\"_parent\"><img src=\"https://colab.research.google.com/assets/colab-badge.svg\" alt=\"Open In Colab\"/></a>"
      ]
    },
    {
      "cell_type": "code",
      "source": [
        "from google.colab import drive\n",
        "drive.mount('/content/drive')"
      ],
      "metadata": {
        "colab": {
          "base_uri": "https://localhost:8080/"
        },
        "id": "iy3OuouukCv-",
        "outputId": "1060f802-37ee-400a-bcd6-22c52e1e1ad1"
      },
      "execution_count": 1,
      "outputs": [
        {
          "output_type": "stream",
          "name": "stdout",
          "text": [
            "Mounted at /content/drive\n"
          ]
        }
      ]
    },
    {
      "cell_type": "code",
      "source": [
        "import matplotlib.pyplot as plt\n",
        "import numpy as np\n",
        "import os\n",
        "\n",
        "import tensorflow as tfa\n",
        "from tensorflow.keras import models\n",
        "from tensorflow.keras import layers\n",
        "from tensorflow.keras.applications import VGG16 \n",
        "from tensorflow.keras.preprocessing.image import ImageDataGenerator\n",
        "from tensorflow.keras import optimizers\n",
        "\n",
        "from sklearn.metrics import multilabel_confusion_matrix, ConfusionMatrixDisplay"
      ],
      "metadata": {
        "id": "3ShXeAZc7szg"
      },
      "execution_count": 20,
      "outputs": []
    },
    {
      "cell_type": "code",
      "source": [
        "%cd \"/content/drive/MyDrive/Desarrollo de aplicaciones avanzadas de ciencias computacionales/Dataset\"\n",
        "\n",
        "base_dir = 'Fruits'\n",
        "train_dir = os.path.join(base_dir,'train')\n",
        "validation_dir = os.path.join(base_dir, 'validation')\n",
        "test_dir = os.path.join(base_dir, 'test')\n",
        "\n",
        "train_datagen = ImageDataGenerator(\n",
        "\t\t\t\t\t\t\trescale = 1./255,\n",
        "\t\t\t\t\t\t\trotation_range = 15,\n",
        "\t\t\t\t\t\t\tzoom_range = 0.3,\n",
        "\t\t\t\t\t\t\thorizontal_flip = True,\n",
        "\t\t\t\t\t\t\tbrightness_range=[0.7,0.9],\n",
        "\t\t\t\t\t\t\tvertical_flip=True,\n",
        "\t\t\t\t\t\t\t)\n",
        "\t\t\t\t\t\t\t\n",
        "val_datagen = ImageDataGenerator(1./255)\n",
        "\n",
        "\n",
        "train_generator = train_datagen.flow_from_directory(\n",
        "\t\t\t\t\t\t\ttrain_dir,\n",
        "\t\t\t\t\t\t\ttarget_size = (250, 250),\n",
        "\t\t\t\t\t\t\tbatch_size = 6,\n",
        "\t\t\t\t\t\t\tclass_mode ='categorical')\n",
        "\n",
        "\n",
        "val_generator = val_datagen.flow_from_directory(\n",
        "\t\t\t\t\t\t\tvalidation_dir,\n",
        "\t\t\t\t\t\t\ttarget_size = (250, 250),\n",
        "\t\t\t\t\t\t\tbatch_size = 6, #Cada cuantos ejemplos se actualiza la epoca\n",
        "\t\t\t\t\t\t\t#step_per_epoch Cada cuantos batches son una epoca\n",
        "\t\t\t\t\t\t\tclass_mode= 'categorical')\n",
        "\n",
        "conv_base= VGG16(weights='imagenet',\n",
        "\t\t\t\t\t\t\t\tinclude_top = False,\n",
        "\t\t\t\t\t\t\t\tinput_shape = (250,250,3))"
      ],
      "metadata": {
        "colab": {
          "base_uri": "https://localhost:8080/"
        },
        "id": "5fM6e4EQ7sYI",
        "outputId": "325bc656-c01d-4953-ab86-b70baa0587a1"
      },
      "execution_count": 4,
      "outputs": [
        {
          "output_type": "stream",
          "name": "stdout",
          "text": [
            "/content/drive/MyDrive/Desarrollo de aplicaciones avanzadas de ciencias computacionales/Dataset\n",
            "Found 264 images belonging to 3 classes.\n",
            "Found 75 images belonging to 3 classes.\n",
            "Downloading data from https://storage.googleapis.com/tensorflow/keras-applications/vgg16/vgg16_weights_tf_dim_ordering_tf_kernels_notop.h5\n",
            "58889256/58889256 [==============================] - 0s 0us/step\n"
          ]
        }
      ]
    },
    {
      "cell_type": "code",
      "metadata": {
        "id": "0FwcSBGmwWEn",
        "colab": {
          "base_uri": "https://localhost:8080/"
        },
        "outputId": "9dbb4545-df13-48c8-8e41-f5e3cc5df17a"
      },
      "source": [
        "model = models.Sequential()\n",
        "model.add(conv_base)\n",
        "model.add(layers.Flatten())\n",
        "model.add(layers.Dense(120,activation='relu'))\n",
        "model.add(layers.Dense(3,activation='softmax'))\n",
        "\n",
        "\n",
        "conv_base.trainable = False\n",
        "\n",
        "model.summary()\n",
        "\n",
        "model.compile(loss='categorical_crossentropy',\n",
        "\t\t\t\t\t\toptimizer=optimizers.RMSprop(lr=2e-5),\n",
        "\t\t\t\t\t\tmetrics=['acc'])\n",
        "\n",
        "history = model.fit(train_generator, \n",
        "\t\t\t\tsteps_per_epoch = 10,\n",
        "\t\t\t\tepochs = 9, \n",
        "\t\t\t\tvalidation_data = val_generator, \n",
        "\t\t\t\tvalidation_steps = 10)\n",
        "\t\t\t\t\n"
      ],
      "execution_count": 5,
      "outputs": [
        {
          "output_type": "stream",
          "name": "stdout",
          "text": [
            "Model: \"sequential\"\n",
            "_________________________________________________________________\n",
            " Layer (type)                Output Shape              Param #   \n",
            "=================================================================\n",
            " vgg16 (Functional)          (None, 7, 7, 512)         14714688  \n",
            "                                                                 \n",
            " flatten (Flatten)           (None, 25088)             0         \n",
            "                                                                 \n",
            " dense (Dense)               (None, 120)               3010680   \n",
            "                                                                 \n",
            " dense_1 (Dense)             (None, 3)                 363       \n",
            "                                                                 \n",
            "=================================================================\n",
            "Total params: 17,725,731\n",
            "Trainable params: 3,011,043\n",
            "Non-trainable params: 14,714,688\n",
            "_________________________________________________________________\n"
          ]
        },
        {
          "output_type": "stream",
          "name": "stderr",
          "text": [
            "WARNING:absl:`lr` is deprecated in Keras optimizer, please use `learning_rate` or use the legacy optimizer, e.g.,tf.keras.optimizers.legacy.RMSprop.\n"
          ]
        },
        {
          "output_type": "stream",
          "name": "stdout",
          "text": [
            "Epoch 1/9\n",
            "10/10 [==============================] - ETA: 0s - loss: 8.1189 - acc: 0.3167"
          ]
        },
        {
          "output_type": "stream",
          "name": "stderr",
          "text": [
            "/usr/local/lib/python3.10/dist-packages/keras/preprocessing/image.py:1861: UserWarning: This ImageDataGenerator specifies `featurewise_center`, but it hasn't been fit on any training data. Fit it first by calling `.fit(numpy_data)`.\n",
            "  warnings.warn(\n"
          ]
        },
        {
          "output_type": "stream",
          "name": "stdout",
          "text": [
            "\b\b\b\b\b\b\b\b\b\b\b\b\b\b\b\b\b\b\b\b\b\b\b\b\b\b\b\b\b\b\b\b\b\b\b\b\b\b\b\b\b\b\b\b\b\b\b\b\b\b\b\b\b\b\b\b\b\b\b\b\b\b\b\b\b\b\b\b\b\b\b\b\b\b\b\b\b\r10/10 [==============================] - 101s 10s/step - loss: 8.1189 - acc: 0.3167 - val_loss: 22.2185 - val_acc: 0.3667\n",
            "Epoch 2/9\n",
            "10/10 [==============================] - 89s 9s/step - loss: 1.1981 - acc: 0.3833 - val_loss: 23.9344 - val_acc: 0.4167\n",
            "Epoch 3/9\n",
            "10/10 [==============================] - 128s 13s/step - loss: 1.1429 - acc: 0.4333 - val_loss: 6.8359 - val_acc: 0.5833\n",
            "Epoch 4/9\n",
            "10/10 [==============================] - 127s 14s/step - loss: 1.1106 - acc: 0.4667 - val_loss: 12.2753 - val_acc: 0.5333\n",
            "Epoch 5/9\n",
            "10/10 [==============================] - 127s 14s/step - loss: 0.9644 - acc: 0.6000 - val_loss: 7.6467 - val_acc: 0.6333\n",
            "Epoch 6/9\n",
            "10/10 [==============================] - 127s 14s/step - loss: 0.8261 - acc: 0.6833 - val_loss: 6.4928 - val_acc: 0.6667\n",
            "Epoch 7/9\n",
            "10/10 [==============================] - 126s 14s/step - loss: 0.7557 - acc: 0.6333 - val_loss: 5.6213 - val_acc: 0.6333\n",
            "Epoch 8/9\n",
            "10/10 [==============================] - 88s 9s/step - loss: 0.6591 - acc: 0.7333 - val_loss: 8.9002 - val_acc: 0.6000\n",
            "Epoch 9/9\n",
            "10/10 [==============================] - 86s 9s/step - loss: 0.5198 - acc: 0.8333 - val_loss: 8.6937 - val_acc: 0.6333\n"
          ]
        }
      ]
    },
    {
      "cell_type": "code",
      "source": [
        "model.save('bananas.h5')\n",
        "\t\t\t\n",
        "acc = history.history['acc']\n",
        "val_acc = history.history['val_acc']\n",
        "loss = history.history['loss']\n",
        "val_loss = history.history['val_loss']\n",
        "\n",
        "epochs = range(1, len(acc)+1)\n",
        "\n",
        "plt.plot(epochs,acc,'bo',label='train accuracy')\n",
        "plt.plot(epochs,val_acc, 'b', label='validation accuracy')\n",
        "plt.title('train acc vs val acc')\n",
        "plt.legend()\n",
        "\n",
        "plt.figure()\n",
        "\n",
        "plt.plot(epochs,loss, 'bo', label ='training loss')\n",
        "plt.plot(epochs,val_loss, 'b', label = 'validation loss')\n",
        "plt.title('train loss vs val loss')\n",
        "plt.legend()\n",
        "\n",
        "plt.show()\n",
        "\n",
        "test_datagen = ImageDataGenerator(1./255)\n",
        "test_generator = test_datagen.flow_from_directory(\n",
        "\t\t\t\t\ttest_dir,\n",
        "\t\t\t\t\ttarget_size = (250, 250),\n",
        "\t\t\t\t\tbatch_size = 6,\n",
        "\t\t\t\t\tclass_mode= 'categorical')\n",
        "\n",
        "test_loss, test_acc = model.evaluate_generator(test_generator, steps = 10)\n",
        "print('\\ntest acc :\\n', test_acc)"
      ],
      "metadata": {
        "colab": {
          "base_uri": "https://localhost:8080/",
          "height": 1000
        },
        "id": "9vsfSE1B79-E",
        "outputId": "ef5d54aa-3732-4cf1-c79e-13df3682db97"
      },
      "execution_count": 6,
      "outputs": [
        {
          "output_type": "display_data",
          "data": {
            "text/plain": [
              "<Figure size 640x480 with 1 Axes>"
            ],
            "image/png": "[encoded data removed]"
          },
          "metadata": {}
        },
        {
          "output_type": "display_data",
          "data": {
            "text/plain": [
              "<Figure size 640x480 with 1 Axes>"
            ],
            "image/png": "[encoded data removed]"
          },
          "metadata": {}
        },
        {
          "output_type": "stream",
          "name": "stdout",
          "text": [
            "Found 75 images belonging to 3 classes.\n"
          ]
        },
        {
          "output_type": "stream",
          "name": "stderr",
          "text": [
            "<ipython-input-6-19ef65647da7>:31: UserWarning: `Model.evaluate_generator` is deprecated and will be removed in a future version. Please use `Model.evaluate`, which supports generators.\n",
            "  test_loss, test_acc = model.evaluate_generator(test_generator, steps = 10)\n"
          ]
        },
        {
          "output_type": "stream",
          "name": "stdout",
          "text": [
            "\n",
            "test acc :\n",
            " 0.6333333253860474\n"
          ]
        }
      ]
    },
    {
      "cell_type": "code",
      "source": [
        "#y_test = test_generator[0][0]\n",
        "#y = test_generator[0][1]\n",
        "\n",
        "#pred = model.predict(y_test)\n",
        "#y_pred = np.argmax(pred, axis=1)\n",
        "\n",
        "#cm = multilabel_confusion_matrix(y, y_test)\n",
        "#disp = ConfusionMatrixDisplay(confusion_matrix=cm)\n",
        "#disp.plot()\n",
        "#plt.show()"
      ],
      "metadata": {
        "id": "LuqdGLLRsR0m"
      },
      "execution_count": 29,
      "outputs": []
    },
    {
      "cell_type": "markdown",
      "source": [
        "#Reflexión\n",
        "\n",
        "Actualmente mi neurona se encuentra en el estado de underfiting por el nivel de certeza que obtuvo al momento de entrenar a la neurona. Esto puede ser causado por que la neurona no estuvo configurada de la mejor manera o debido a los datos de mi dataset, ya que son muy dispersos. \n"
      ],
      "metadata": {
        "id": "kk46afzx7xbU"
      }
    }
  ]
}